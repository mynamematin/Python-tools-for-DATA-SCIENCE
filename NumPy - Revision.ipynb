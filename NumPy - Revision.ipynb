{
 "cells": [
  {
   "cell_type": "markdown",
   "id": "3c777ec1",
   "metadata": {},
   "source": [
    "# NumPy - Revision"
   ]
  },
  {
   "cell_type": "code",
   "execution_count": 1,
   "id": "f9dc7bba",
   "metadata": {},
   "outputs": [],
   "source": [
    "import numpy as np"
   ]
  },
  {
   "cell_type": "code",
   "execution_count": 2,
   "id": "3fbd7186",
   "metadata": {},
   "outputs": [
    {
     "name": "stdout",
     "output_type": "stream",
     "text": [
      "1.20.3\n",
      "blas_mkl_info:\n",
      "    libraries = ['mkl_rt']\n",
      "    library_dirs = ['C:/ProgramData/Anaconda3\\\\Library\\\\lib']\n",
      "    define_macros = [('SCIPY_MKL_H', None), ('HAVE_CBLAS', None)]\n",
      "    include_dirs = ['C:/ProgramData/Anaconda3\\\\Library\\\\include']\n",
      "blas_opt_info:\n",
      "    libraries = ['mkl_rt']\n",
      "    library_dirs = ['C:/ProgramData/Anaconda3\\\\Library\\\\lib']\n",
      "    define_macros = [('SCIPY_MKL_H', None), ('HAVE_CBLAS', None)]\n",
      "    include_dirs = ['C:/ProgramData/Anaconda3\\\\Library\\\\include']\n",
      "lapack_mkl_info:\n",
      "    libraries = ['mkl_rt']\n",
      "    library_dirs = ['C:/ProgramData/Anaconda3\\\\Library\\\\lib']\n",
      "    define_macros = [('SCIPY_MKL_H', None), ('HAVE_CBLAS', None)]\n",
      "    include_dirs = ['C:/ProgramData/Anaconda3\\\\Library\\\\include']\n",
      "lapack_opt_info:\n",
      "    libraries = ['mkl_rt']\n",
      "    library_dirs = ['C:/ProgramData/Anaconda3\\\\Library\\\\lib']\n",
      "    define_macros = [('SCIPY_MKL_H', None), ('HAVE_CBLAS', None)]\n",
      "    include_dirs = ['C:/ProgramData/Anaconda3\\\\Library\\\\include']\n"
     ]
    }
   ],
   "source": [
    "##numpy version and config\n",
    "print(np.__version__)\n",
    "np.show_config()"
   ]
  },
  {
   "cell_type": "code",
   "execution_count": 3,
   "id": "60dc4bcb",
   "metadata": {},
   "outputs": [
    {
     "name": "stdout",
     "output_type": "stream",
     "text": [
      "[0. 0. 0. 0. 0. 0. 0. 0. 0. 0.]\n"
     ]
    }
   ],
   "source": [
    "##null vector of size 10\n",
    "Z=np.zeros(10)\n",
    "print(Z)"
   ]
  },
  {
   "cell_type": "code",
   "execution_count": 4,
   "id": "3bde599b",
   "metadata": {},
   "outputs": [
    {
     "ename": "NameError",
     "evalue": "name 'numpy' is not defined",
     "output_type": "error",
     "traceback": [
      "\u001b[1;31m---------------------------------------------------------------------------\u001b[0m",
      "\u001b[1;31mNameError\u001b[0m                                 Traceback (most recent call last)",
      "\u001b[1;32mC:\\Users\\MOHAMM~1\\AppData\\Local\\Temp/ipykernel_2628/1878490076.py\u001b[0m in \u001b[0;36m<module>\u001b[1;34m\u001b[0m\n\u001b[0;32m      1\u001b[0m \u001b[1;31m##how to get doccumentation of the numpy add function from the command line\u001b[0m\u001b[1;33m\u001b[0m\u001b[1;33m\u001b[0m\u001b[0m\n\u001b[1;32m----> 2\u001b[1;33m \u001b[0mnumpy\u001b[0m\u001b[1;33m.\u001b[0m\u001b[0minfo\u001b[0m\u001b[1;33m(\u001b[0m\u001b[0mnumpy\u001b[0m\u001b[1;33m.\u001b[0m\u001b[0madd\u001b[0m\u001b[1;33m)\u001b[0m\u001b[1;33m\u001b[0m\u001b[1;33m\u001b[0m\u001b[0m\n\u001b[0m",
      "\u001b[1;31mNameError\u001b[0m: name 'numpy' is not defined"
     ]
    }
   ],
   "source": [
    "##how to get doccumentation of the numpy add function from the command line\n",
    "numpy.info(numpy.add)"
   ]
  },
  {
   "cell_type": "code",
   "execution_count": 5,
   "id": "610e13b9",
   "metadata": {},
   "outputs": [
    {
     "name": "stdout",
     "output_type": "stream",
     "text": [
      "[0. 0. 0. 0. 1. 0. 0. 0. 0. 0.]\n"
     ]
    }
   ],
   "source": [
    "##create null vector of size 10 but 5th value is 1\n",
    "Z=np.zeros(10)\n",
    "Z[4]=1\n",
    "print(Z)"
   ]
  },
  {
   "cell_type": "code",
   "execution_count": 6,
   "id": "b9f20e86",
   "metadata": {},
   "outputs": [
    {
     "name": "stdout",
     "output_type": "stream",
     "text": [
      "[10 11 12 13 14 15 16 17 18 19 20 21 22 23 24 25 26 27 28 29 30 31 32 33\n",
      " 34 35 36 37 38 39 40 41 42 43 44 45 46 47 48 49]\n"
     ]
    }
   ],
   "source": [
    "##create a vector with value ranging from 10 to 49\n",
    "Z=np.arange(10,50)\n",
    "print(Z)"
   ]
  },
  {
   "cell_type": "code",
   "execution_count": 7,
   "id": "bb55f31a",
   "metadata": {},
   "outputs": [
    {
     "name": "stdout",
     "output_type": "stream",
     "text": [
      "[ 0  1  2  3  4  5  6  7  8  9 10 11 12 13 14 15 16 17 18 19 20 21 22 23\n",
      " 24 25 26 27 28 29 30 31 32 33 34 35 36 37 38 39 40 41 42 43 44 45 46 47\n",
      " 48 49]\n",
      "[49 48 47 46 45 44 43 42 41 40 39 38 37 36 35 34 33 32 31 30 29 28 27 26\n",
      " 25 24 23 22 21 20 19 18 17 16 15 14 13 12 11 10  9  8  7  6  5  4  3  2\n",
      "  1  0]\n"
     ]
    }
   ],
   "source": [
    "##reverse a vector\n",
    "Z=np.arange(50)\n",
    "print(Z)\n",
    "M=Z[::-1]\n",
    "print(M)"
   ]
  },
  {
   "cell_type": "code",
   "execution_count": 8,
   "id": "b87401df",
   "metadata": {},
   "outputs": [
    {
     "name": "stdout",
     "output_type": "stream",
     "text": [
      "[[0 1 2]\n",
      " [3 4 5]\n",
      " [6 7 8]]\n"
     ]
    }
   ],
   "source": [
    "##create a 3X3 matrix with value ranging from 0 - 8\n",
    "Z=np.arange(9).reshape(3,3)\n",
    "print(Z)"
   ]
  },
  {
   "cell_type": "code",
   "execution_count": 9,
   "id": "32abe2fc",
   "metadata": {},
   "outputs": [
    {
     "name": "stdout",
     "output_type": "stream",
     "text": [
      "(array([0, 1, 4], dtype=int64),)\n"
     ]
    }
   ],
   "source": [
    "##find indices of non-zero elements from [1,2,0,0,4,0]\n",
    "nz=np.nonzero([1,2,0,0,4,0])\n",
    "print(nz)"
   ]
  },
  {
   "cell_type": "code",
   "execution_count": 10,
   "id": "775c7804",
   "metadata": {},
   "outputs": [
    {
     "name": "stdout",
     "output_type": "stream",
     "text": [
      "[[1. 0. 0.]\n",
      " [0. 1. 0.]\n",
      " [0. 0. 1.]]\n"
     ]
    }
   ],
   "source": [
    "##create a 3X3 identity matrix\n",
    "Z=np.eye(3)\n",
    "print(Z)"
   ]
  },
  {
   "cell_type": "code",
   "execution_count": 11,
   "id": "9b24ba57",
   "metadata": {},
   "outputs": [
    {
     "name": "stdout",
     "output_type": "stream",
     "text": [
      "[[[0.45968331 0.01405816 0.25417282]\n",
      "  [0.68676492 0.85404377 0.66829068]\n",
      "  [0.52754872 0.55604343 0.92039409]]\n",
      "\n",
      " [[0.64409652 0.84385557 0.92430789]\n",
      "  [0.74109034 0.32824763 0.35865095]\n",
      "  [0.58570232 0.12479009 0.90913783]]\n",
      "\n",
      " [[0.97161113 0.05392532 0.34854322]\n",
      "  [0.67822547 0.22923957 0.96134574]\n",
      "  [0.82148834 0.58076038 0.01865412]]]\n"
     ]
    }
   ],
   "source": [
    "##create 3X3X3 array with random values\n",
    "Z=np.random.random((3,3,3))\n",
    "print(Z)"
   ]
  },
  {
   "cell_type": "code",
   "execution_count": 12,
   "id": "ea378651",
   "metadata": {},
   "outputs": [
    {
     "name": "stdout",
     "output_type": "stream",
     "text": [
      "[[0.21196958 0.02104962 0.93281846 0.93474659 0.41545206 0.00620738\n",
      "  0.66575947 0.96183851 0.86055416 0.63876256]\n",
      " [0.07482367 0.19243131 0.12982541 0.51119258 0.77127119 0.85096328\n",
      "  0.96413815 0.83253655 0.7454455  0.12650445]\n",
      " [0.37186803 0.86127404 0.32824289 0.11294618 0.31502694 0.9809358\n",
      "  0.88200477 0.62279314 0.90151408 0.86515874]\n",
      " [0.20553221 0.63115146 0.05758977 0.33996322 0.18678082 0.34274496\n",
      "  0.35000605 0.50656841 0.5676152  0.0892666 ]\n",
      " [0.71498947 0.03084597 0.43379183 0.30369271 0.72814804 0.30002465\n",
      "  0.74552575 0.79682564 0.71411114 0.18722044]\n",
      " [0.37365297 0.38333938 0.59908172 0.79405283 0.59681398 0.69071878\n",
      "  0.30364968 0.34780717 0.43385311 0.03853011]\n",
      " [0.84202428 0.40265388 0.88522524 0.38381501 0.60650598 0.2989245\n",
      "  0.83125149 0.06015694 0.51360122 0.34334739]\n",
      " [0.38993007 0.72508132 0.0770315  0.59732734 0.01714149 0.75006775\n",
      "  0.67070818 0.4180776  0.96548874 0.66695664]\n",
      " [0.65269799 0.2245654  0.35458557 0.63277728 0.45493177 0.62738045\n",
      "  0.58525268 0.04281297 0.79669074 0.31970582]\n",
      " [0.46234814 0.092671   0.31998554 0.90484813 0.76589796 0.07483964\n",
      "  0.35646083 0.91663658 0.06067798 0.97222817]]\n",
      "0.0062073805323102915 0.9809358012160951\n"
     ]
    }
   ],
   "source": [
    "##create 10X10 array with random values and find the maximum and minimum values\n",
    "Z=np.random.random((10,10))\n",
    "print(Z)\n",
    "Zmin,Zmax=Z.min(),Z.max()\n",
    "print(Zmin,Zmax)"
   ]
  },
  {
   "cell_type": "code",
   "execution_count": 13,
   "id": "4bddb68f",
   "metadata": {},
   "outputs": [
    {
     "name": "stdout",
     "output_type": "stream",
     "text": [
      "[0.2665068  0.30233527 0.9042068  0.31823779 0.41950658 0.37428019\n",
      " 0.63220676 0.61218865 0.61648502 0.65259101 0.45202175 0.5243143\n",
      " 0.64824638 0.01866653 0.25132936 0.67199278 0.17006574 0.90865833\n",
      " 0.03896848 0.44607617 0.29600668 0.57728891 0.2070979  0.28773455\n",
      " 0.84787805 0.85538369 0.90233996 0.20110511 0.9617945  0.75709304]\n",
      "0.5040869035954436\n"
     ]
    }
   ],
   "source": [
    "##create a random vector of size 30 and find the mean value\n",
    "Z=np.random.random(30)\n",
    "print(Z)\n",
    "m=Z.mean()\n",
    "print(m)"
   ]
  },
  {
   "cell_type": "code",
   "execution_count": 14,
   "id": "e2c98fec",
   "metadata": {},
   "outputs": [
    {
     "name": "stdout",
     "output_type": "stream",
     "text": [
      "[[1. 1. 1. 1. 1. 1. 1. 1. 1. 1.]\n",
      " [1. 1. 1. 1. 1. 1. 1. 1. 1. 1.]\n",
      " [1. 1. 1. 1. 1. 1. 1. 1. 1. 1.]\n",
      " [1. 1. 1. 1. 1. 1. 1. 1. 1. 1.]\n",
      " [1. 1. 1. 1. 1. 1. 1. 1. 1. 1.]\n",
      " [1. 1. 1. 1. 1. 1. 1. 1. 1. 1.]\n",
      " [1. 1. 1. 1. 1. 1. 1. 1. 1. 1.]\n",
      " [1. 1. 1. 1. 1. 1. 1. 1. 1. 1.]\n",
      " [1. 1. 1. 1. 1. 1. 1. 1. 1. 1.]\n",
      " [1. 1. 1. 1. 1. 1. 1. 1. 1. 1.]]\n",
      "[[1. 1. 1. 1. 1. 1. 1. 1. 1. 1.]\n",
      " [1. 0. 0. 0. 0. 0. 0. 0. 0. 1.]\n",
      " [1. 0. 0. 0. 0. 0. 0. 0. 0. 1.]\n",
      " [1. 0. 0. 0. 0. 0. 0. 0. 0. 1.]\n",
      " [1. 0. 0. 0. 0. 0. 0. 0. 0. 1.]\n",
      " [1. 0. 0. 0. 0. 0. 0. 0. 0. 1.]\n",
      " [1. 0. 0. 0. 0. 0. 0. 0. 0. 1.]\n",
      " [1. 0. 0. 0. 0. 0. 0. 0. 0. 1.]\n",
      " [1. 0. 0. 0. 0. 0. 0. 0. 0. 1.]\n",
      " [1. 1. 1. 1. 1. 1. 1. 1. 1. 1.]]\n"
     ]
    }
   ],
   "source": [
    "#create a 2D array with one on the border and zero inside\n",
    "Z=np.ones((10,10))\n",
    "print(Z)\n",
    "Z[1:-1,1:-1]=0\n",
    "print(Z)\n"
   ]
  },
  {
   "cell_type": "code",
   "execution_count": 15,
   "id": "478fce63",
   "metadata": {},
   "outputs": [
    {
     "data": {
      "text/plain": [
       "False"
      ]
     },
     "execution_count": 15,
     "metadata": {},
     "output_type": "execute_result"
    }
   ],
   "source": [
    "##what is the result of the following expression\n",
    "0*np.nan\n",
    "np.nan==np.nan\n",
    "np.inf>np.nan\n",
    "np.nan-np.nan\n",
    "0.3==3*0.1"
   ]
  },
  {
   "cell_type": "code",
   "execution_count": 16,
   "id": "62327ea0",
   "metadata": {},
   "outputs": [
    {
     "data": {
      "text/plain": [
       "0.30000000000000004"
      ]
     },
     "execution_count": 16,
     "metadata": {},
     "output_type": "execute_result"
    }
   ],
   "source": [
    "3*0.1 ## strange"
   ]
  },
  {
   "cell_type": "code",
   "execution_count": 17,
   "id": "8666d383",
   "metadata": {},
   "outputs": [
    {
     "name": "stdout",
     "output_type": "stream",
     "text": [
      "[[0 0 0 0 0]\n",
      " [1 0 0 0 0]\n",
      " [0 2 0 0 0]\n",
      " [0 0 3 0 0]\n",
      " [0 0 0 4 0]]\n"
     ]
    }
   ],
   "source": [
    "##create a 5X5 matrix with a value 1,2,3,4 just below the diagonal\n",
    "Z=np.diag(1+np.arange(4),k=-1)\n",
    "print(Z)"
   ]
  },
  {
   "cell_type": "code",
   "execution_count": 18,
   "id": "6b03a989",
   "metadata": {},
   "outputs": [
    {
     "name": "stdout",
     "output_type": "stream",
     "text": [
      "[[0 0 0 0]\n",
      " [0 1 0 0]\n",
      " [0 0 2 0]\n",
      " [0 0 0 3]]\n"
     ]
    }
   ],
   "source": [
    "Z=np.diag(np.arange(4))\n",
    "print(Z)"
   ]
  },
  {
   "cell_type": "code",
   "execution_count": 19,
   "id": "8efd0b88",
   "metadata": {},
   "outputs": [
    {
     "name": "stdout",
     "output_type": "stream",
     "text": [
      "[[0 0 0 0 0]\n",
      " [0 0 0 0 0]\n",
      " [0 1 0 0 0]\n",
      " [0 0 2 0 0]\n",
      " [0 0 0 3 0]]\n"
     ]
    }
   ],
   "source": [
    "Z=np.diag(np.arange(4),k=-1)\n",
    "print(Z)"
   ]
  },
  {
   "cell_type": "code",
   "execution_count": 20,
   "id": "46bda2c8",
   "metadata": {},
   "outputs": [
    {
     "name": "stdout",
     "output_type": "stream",
     "text": [
      "[[1 0 0 0]\n",
      " [0 2 0 0]\n",
      " [0 0 3 0]\n",
      " [0 0 0 4]]\n"
     ]
    }
   ],
   "source": [
    "Z=np.diag(1+np.arange(4))\n",
    "print(Z)"
   ]
  },
  {
   "cell_type": "code",
   "execution_count": 21,
   "id": "a7e3a10b",
   "metadata": {},
   "outputs": [
    {
     "name": "stdout",
     "output_type": "stream",
     "text": [
      "[[0 0 0 0 0 0]\n",
      " [0 0 0 0 0 0]\n",
      " [1 0 0 0 0 0]\n",
      " [0 2 0 0 0 0]\n",
      " [0 0 3 0 0 0]\n",
      " [0 0 0 4 0 0]]\n"
     ]
    }
   ],
   "source": [
    "Z=np.diag(1+np.arange(4),k=-2)\n",
    "print(Z)"
   ]
  },
  {
   "cell_type": "code",
   "execution_count": 22,
   "id": "62140273",
   "metadata": {},
   "outputs": [
    {
     "name": "stdout",
     "output_type": "stream",
     "text": [
      "[[0 0 0 0 0 0 0 0]\n",
      " [0 0 0 0 0 0 0 0]\n",
      " [0 0 0 0 0 0 0 0]\n",
      " [0 0 0 0 0 0 0 0]\n",
      " [0 0 0 0 0 0 0 0]\n",
      " [0 0 0 0 0 0 0 0]\n",
      " [0 0 0 0 0 0 0 0]\n",
      " [0 0 0 0 0 0 0 0]]\n",
      "[[0 0 0 0 0 0 0 0]\n",
      " [1 0 1 0 1 0 1 0]\n",
      " [0 0 0 0 0 0 0 0]\n",
      " [1 0 1 0 1 0 1 0]\n",
      " [0 0 0 0 0 0 0 0]\n",
      " [1 0 1 0 1 0 1 0]\n",
      " [0 0 0 0 0 0 0 0]\n",
      " [1 0 1 0 1 0 1 0]]\n",
      "[[0 1 0 1 0 1 0 1]\n",
      " [1 0 1 0 1 0 1 0]\n",
      " [0 1 0 1 0 1 0 1]\n",
      " [1 0 1 0 1 0 1 0]\n",
      " [0 1 0 1 0 1 0 1]\n",
      " [1 0 1 0 1 0 1 0]\n",
      " [0 1 0 1 0 1 0 1]\n",
      " [1 0 1 0 1 0 1 0]]\n"
     ]
    }
   ],
   "source": [
    "##create a 8X8 matrix and fill it with a checkerboard pattern\n",
    "Z=np.zeros((8,8),dtype=int)\n",
    "print(Z)\n",
    "Z[1::2,::2]=1\n",
    "print(Z)\n",
    "Z[::2,1::2]=1\n",
    "print(Z)"
   ]
  },
  {
   "cell_type": "code",
   "execution_count": 23,
   "id": "0d351c77",
   "metadata": {},
   "outputs": [
    {
     "name": "stdout",
     "output_type": "stream",
     "text": [
      "[[0.66095535 0.33190773 0.88767141]\n",
      " [0.51068627 0.6266346  0.84168302]\n",
      " [0.35434129 0.67008201 0.45789963]]\n",
      "[[0.66095535 0.33190773 1.        ]\n",
      " [0.51068627 0.6266346  0.84168302]\n",
      " [0.35434129 0.67008201 0.45789963]]\n"
     ]
    }
   ],
   "source": [
    "Z=np.random.random((3,3))\n",
    "print(Z)\n",
    "Z[0:1,2]=1\n",
    "print(Z)"
   ]
  },
  {
   "cell_type": "code",
   "execution_count": 24,
   "id": "ce0767a1",
   "metadata": {},
   "outputs": [
    {
     "name": "stdout",
     "output_type": "stream",
     "text": [
      "(1, 5, 4)\n"
     ]
    }
   ],
   "source": [
    "##consider a (6,7,8) shaped array, what is the index of the 100th element\n",
    "print(np.unravel_index(100,(6,7,8)))"
   ]
  },
  {
   "cell_type": "code",
   "execution_count": 25,
   "id": "1417e3e2",
   "metadata": {},
   "outputs": [
    {
     "name": "stdout",
     "output_type": "stream",
     "text": [
      "[[[0.99868013 0.33313558 0.40682509 0.72123399 0.14456708 0.40643292\n",
      "   0.10861984 0.04427265]\n",
      "  [0.82074041 0.22569867 0.07022399 0.81215461 0.31367879 0.41784147\n",
      "   0.41512808 0.55375395]\n",
      "  [0.60635304 0.47707538 0.66668549 0.29257157 0.77464984 0.94114668\n",
      "   0.74610091 0.00621659]\n",
      "  [0.26553738 0.16599901 0.57878011 0.44763654 0.8449365  0.32355789\n",
      "   0.6866395  0.54638988]\n",
      "  [0.20002858 0.30707912 0.2271084  0.13473295 0.33233849 0.46240804\n",
      "   0.89307861 0.78622749]\n",
      "  [0.89592301 0.11913186 0.90701175 0.01200462 0.59766781 0.66135451\n",
      "   0.39767928 0.95935074]\n",
      "  [0.14275211 0.7607999  0.23655439 0.95200936 0.05940107 0.67651671\n",
      "   0.01923498 0.1699413 ]]\n",
      "\n",
      " [[0.39263796 0.84955943 0.40059012 0.16082692 0.147425   0.72251843\n",
      "   0.82450186 0.1613562 ]\n",
      "  [0.0158012  0.53608276 0.54944421 0.60181433 0.97233288 0.26461914\n",
      "   0.07947113 0.29241688]\n",
      "  [0.13233386 0.16010051 0.23154563 0.36783755 0.48442157 0.29013429\n",
      "   0.97417211 0.30259561]\n",
      "  [0.0376864  0.21170197 0.23337007 0.49200542 0.86335728 0.65128441\n",
      "   0.36504898 0.45588055]\n",
      "  [0.92794256 0.96922068 0.37936803 0.66326123 0.31878351 0.16491612\n",
      "   0.20174849 0.2382793 ]\n",
      "  [0.411883   0.03240827 0.01224554 0.35020416 0.6422114  0.9696045\n",
      "   0.74064177 0.98455954]\n",
      "  [0.87556488 0.09759736 0.57960669 0.65670521 0.94531279 0.96582752\n",
      "   0.27184988 0.75018917]]\n",
      "\n",
      " [[0.40581267 0.94534031 0.68169996 0.51003292 0.8503714  0.96840159\n",
      "   0.01765863 0.10690839]\n",
      "  [0.3869102  0.2462196  0.19148468 0.22155062 0.80494494 0.36798047\n",
      "   0.23962506 0.76124416]\n",
      "  [0.73017787 0.58899216 0.01605971 0.50299969 0.92480901 0.66102083\n",
      "   0.80819054 0.44004726]\n",
      "  [0.53800365 0.06462942 0.07945476 0.13540491 0.09083575 0.44655718\n",
      "   0.0543529  0.11059714]\n",
      "  [0.67186261 0.2789634  0.75073023 0.39321316 0.13046407 0.82146405\n",
      "   0.46918006 0.76982042]\n",
      "  [0.76805986 0.94995234 0.99638239 0.50778193 0.8104787  0.10959334\n",
      "   0.17036744 0.21001742]\n",
      "  [0.10671923 0.20408022 0.0217429  0.23722152 0.21672954 0.46291319\n",
      "   0.59463687 0.2188534 ]]\n",
      "\n",
      " [[0.62038955 0.3629808  0.81686963 0.41707588 0.09800488 0.6754154\n",
      "   0.24613887 0.60236083]\n",
      "  [0.41353135 0.44176908 0.48265491 0.53386375 0.4932075  0.62740087\n",
      "   0.49380987 0.92944274]\n",
      "  [0.12546409 0.4991728  0.98523516 0.1321998  0.09103441 0.33542359\n",
      "   0.9033556  0.45398512]\n",
      "  [0.81477501 0.32655936 0.1437921  0.62268097 0.84041921 0.40719056\n",
      "   0.05625512 0.215545  ]\n",
      "  [0.03701099 0.35869597 0.28696616 0.01861909 0.89364632 0.46512067\n",
      "   0.57653497 0.51592421]\n",
      "  [0.54780033 0.92911499 0.27249503 0.92765547 0.30702949 0.55509074\n",
      "   0.26701192 0.99568153]\n",
      "  [0.4680521  0.45271907 0.02533335 0.26981158 0.47939605 0.36586704\n",
      "   0.94046818 0.52578678]]\n",
      "\n",
      " [[0.91745459 0.29079841 0.97970241 0.81271583 0.77452875 0.02397183\n",
      "   0.9269428  0.00158132]\n",
      "  [0.88412861 0.59964717 0.10403233 0.30370907 0.6401886  0.17493621\n",
      "   0.46815579 0.9402718 ]\n",
      "  [0.17869586 0.00547449 0.79322346 0.54815023 0.71450136 0.77407206\n",
      "   0.56661117 0.37131536]\n",
      "  [0.47202006 0.7976884  0.86309772 0.26668743 0.25934635 0.78443626\n",
      "   0.43045363 0.59166255]\n",
      "  [0.04248785 0.850989   0.90361464 0.68039839 0.46628987 0.08201959\n",
      "   0.0779329  0.53671195]\n",
      "  [0.82012666 0.33436831 0.71146177 0.8016053  0.08999181 0.44163886\n",
      "   0.30880652 0.7763012 ]\n",
      "  [0.82718069 0.98502161 0.42876062 0.14342361 0.302541   0.40970098\n",
      "   0.39658475 0.10677827]]\n",
      "\n",
      " [[0.66510968 0.33600355 0.04595673 0.62623821 0.18216118 0.83863313\n",
      "   0.47529961 0.75352993]\n",
      "  [0.96380311 0.3208399  0.00580707 0.7229735  0.11649131 0.240543\n",
      "   0.11479375 0.51413395]\n",
      "  [0.84742345 0.7831936  0.03641263 0.75085314 0.60732296 0.50843729\n",
      "   0.12563493 0.62578438]\n",
      "  [0.11408762 0.79192371 0.83983772 0.26916585 0.83078459 0.53099145\n",
      "   0.89743337 0.18221335]\n",
      "  [0.17748324 0.17893886 0.33946104 0.58356244 0.74971703 0.91628509\n",
      "   0.11936296 0.9281838 ]\n",
      "  [0.11289872 0.68068623 0.07545812 0.2314719  0.41879085 0.86357809\n",
      "   0.41624745 0.91061402]\n",
      "  [0.2265911  0.59128793 0.34669167 0.66826797 0.66520036 0.71518395\n",
      "   0.61625376 0.29900167]]]\n"
     ]
    },
    {
     "data": {
      "text/plain": [
       "0.6422113998524308"
      ]
     },
     "execution_count": 25,
     "metadata": {},
     "output_type": "execute_result"
    }
   ],
   "source": [
    "Z=np.random.random((6,7,8))\n",
    "print(Z)\n",
    "Z[1,5,4]"
   ]
  },
  {
   "cell_type": "code",
   "execution_count": 26,
   "id": "4957994c",
   "metadata": {},
   "outputs": [
    {
     "name": "stdout",
     "output_type": "stream",
     "text": [
      "[[0 1 0 1 0 1 0 1]\n",
      " [1 0 1 0 1 0 1 0]\n",
      " [0 1 0 1 0 1 0 1]\n",
      " [1 0 1 0 1 0 1 0]\n",
      " [0 1 0 1 0 1 0 1]\n",
      " [1 0 1 0 1 0 1 0]\n",
      " [0 1 0 1 0 1 0 1]\n",
      " [1 0 1 0 1 0 1 0]]\n"
     ]
    }
   ],
   "source": [
    "##create a checkboard 8X8 using a tile function\n",
    "Z=np.tile(np.array([[0,1],[1,0]]),(4,4))\n",
    "print(Z)"
   ]
  },
  {
   "cell_type": "code",
   "execution_count": 27,
   "id": "45f30a28",
   "metadata": {},
   "outputs": [
    {
     "name": "stdout",
     "output_type": "stream",
     "text": [
      "[[0.3365661  0.09588853 0.73859294 0.06031364 0.54603694]\n",
      " [0.09769397 0.61642652 0.58086431 0.46671017 0.41287403]\n",
      " [0.30750155 0.33622075 0.15383707 0.57740929 0.06326225]\n",
      " [0.64738376 0.08351857 0.08457762 0.38124754 0.45730152]\n",
      " [0.33514461 0.56098498 0.96272896 0.97754817 0.08655783]]\n",
      "[[0.30117974 0.03878494 0.73948296 0.         0.52955191]\n",
      " [0.04075329 0.606293   0.56752189 0.4430672  0.38437322]\n",
      " [0.26949259 0.30080323 0.10196239 0.5637551  0.00321467]\n",
      " [0.64004363 0.0252988  0.02645341 0.34989296 0.43280956]\n",
      " [0.29962999 0.54584877 0.9838436  1.         0.0286123 ]]\n"
     ]
    }
   ],
   "source": [
    "## Normalise a 5X5 random matrix\n",
    "Z=np.random.random((5,5))\n",
    "print(Z)\n",
    "Zmax,Zmin=Z.max(),Z.min()\n",
    "Z=(Z-Zmin)/(Zmax-Zmin)\n",
    "print(Z)"
   ]
  },
  {
   "cell_type": "code",
   "execution_count": 28,
   "id": "2fddfc2c",
   "metadata": {},
   "outputs": [
    {
     "name": "stdout",
     "output_type": "stream",
     "text": [
      "[ 0  2  4  6  8 10 12 14 16 18]\n",
      "[0.         0.11111111 0.22222222 0.33333333 0.44444444 0.55555556\n",
      " 0.66666667 0.77777778 0.88888889 1.        ]\n"
     ]
    }
   ],
   "source": [
    "Z=np.arange(0,20,2)\n",
    "print(Z)\n",
    "Zmax,Zmin=Z.max(),Z.min()\n",
    "Z=(Z-Zmin)/(Zmax-Zmin)\n",
    "print(Z)"
   ]
  },
  {
   "cell_type": "code",
   "execution_count": 29,
   "id": "c1f6bd94",
   "metadata": {},
   "outputs": [
    {
     "name": "stderr",
     "output_type": "stream",
     "text": [
      "C:\\Users\\MOHAMM~1\\AppData\\Local\\Temp/ipykernel_2628/3490378983.py:2: FutureWarning: Passing (type, 1) or '1type' as a synonym of type is deprecated; in a future version of numpy, it will be understood as (type, (1,)) / '(1,)type'.\n",
      "  color=np.dtype([(\"r\",np.ubyte,1),(\"g\",np.ubyte,1),(\"b\",np.ubyte,1),(\"a\",np.ubyte,1)])\n"
     ]
    }
   ],
   "source": [
    "##create a custom dtype that describe a color as four unsigned bytes(RGBA)\n",
    "color=np.dtype([(\"r\",np.ubyte,1),(\"g\",np.ubyte,1),(\"b\",np.ubyte,1),(\"a\",np.ubyte,1)])"
   ]
  },
  {
   "cell_type": "code",
   "execution_count": 30,
   "id": "c9cdb7d9",
   "metadata": {},
   "outputs": [
    {
     "name": "stdout",
     "output_type": "stream",
     "text": [
      "[[0.66098579 0.69456488]\n",
      " [0.33761133 1.27235249]\n",
      " [0.56259933 1.38225413]\n",
      " [0.38092024 0.90674159]\n",
      " [0.09830757 0.50614072]]\n"
     ]
    }
   ],
   "source": [
    "##multiply a 5X3 matrix by a 3X2 matrix (real matrix product)\n",
    "Z=np.dot(np.random.random((5,3)),np.random.random((3,2)))\n",
    "print(Z)"
   ]
  },
  {
   "cell_type": "code",
   "execution_count": 31,
   "id": "f8792172",
   "metadata": {},
   "outputs": [
    {
     "ename": "ValueError",
     "evalue": "The truth value of an array with more than one element is ambiguous. Use a.any() or a.all()",
     "output_type": "error",
     "traceback": [
      "\u001b[1;31m---------------------------------------------------------------------------\u001b[0m",
      "\u001b[1;31mValueError\u001b[0m                                Traceback (most recent call last)",
      "\u001b[1;32mC:\\Users\\MOHAMM~1\\AppData\\Local\\Temp/ipykernel_2628/2283499850.py\u001b[0m in \u001b[0;36m<module>\u001b[1;34m\u001b[0m\n\u001b[0;32m      1\u001b[0m \u001b[1;31m##Given a 1D array, negate all elements which are between 3 and 8 in place.\u001b[0m\u001b[1;33m\u001b[0m\u001b[1;33m\u001b[0m\u001b[0m\n\u001b[0;32m      2\u001b[0m \u001b[0mZ\u001b[0m\u001b[1;33m=\u001b[0m\u001b[0mnp\u001b[0m\u001b[1;33m.\u001b[0m\u001b[0marange\u001b[0m\u001b[1;33m(\u001b[0m\u001b[1;36m11\u001b[0m\u001b[1;33m)\u001b[0m\u001b[1;33m\u001b[0m\u001b[1;33m\u001b[0m\u001b[0m\n\u001b[1;32m----> 3\u001b[1;33m \u001b[0mZ\u001b[0m\u001b[1;33m[\u001b[0m\u001b[1;33m(\u001b[0m\u001b[1;36m3\u001b[0m\u001b[1;33m<\u001b[0m\u001b[0mZ\u001b[0m\u001b[1;33m&\u001b[0m\u001b[0mZ\u001b[0m\u001b[1;33m>=\u001b[0m\u001b[1;36m8\u001b[0m\u001b[1;33m)\u001b[0m\u001b[1;33m]\u001b[0m \u001b[1;33m=\u001b[0m\u001b[1;33m-\u001b[0m\u001b[1;36m1\u001b[0m\u001b[1;33m\u001b[0m\u001b[1;33m\u001b[0m\u001b[0m\n\u001b[0m",
      "\u001b[1;31mValueError\u001b[0m: The truth value of an array with more than one element is ambiguous. Use a.any() or a.all()"
     ]
    }
   ],
   "source": [
    "##Given a 1D array, negate all elements which are between 3 and 8 in place.\n",
    "Z=np.arange(11)\n",
    "Z[(3<Z&Z>=8)] =-1"
   ]
  },
  {
   "cell_type": "code",
   "execution_count": null,
   "id": "889e83e0",
   "metadata": {},
   "outputs": [],
   "source": [
    "##Result of the following expression\n",
    "Z=np.arange(11)\n",
    "print(Z)"
   ]
  },
  {
   "cell_type": "code",
   "execution_count": null,
   "id": "bef52ea7",
   "metadata": {},
   "outputs": [],
   "source": [
    "Z**Z"
   ]
  },
  {
   "cell_type": "code",
   "execution_count": null,
   "id": "1f4afacc",
   "metadata": {},
   "outputs": [],
   "source": [
    "0**0"
   ]
  },
  {
   "cell_type": "code",
   "execution_count": null,
   "id": "78c1e2d1",
   "metadata": {},
   "outputs": [],
   "source": [
    "10**10"
   ]
  },
  {
   "cell_type": "code",
   "execution_count": null,
   "id": "91922c0e",
   "metadata": {},
   "outputs": [],
   "source": [
    "9**9"
   ]
  },
  {
   "cell_type": "code",
   "execution_count": null,
   "id": "de42b31c",
   "metadata": {},
   "outputs": [],
   "source": [
    "2<<Z>>2"
   ]
  },
  {
   "cell_type": "code",
   "execution_count": null,
   "id": "830878d6",
   "metadata": {},
   "outputs": [],
   "source": [
    "Z<-Z"
   ]
  },
  {
   "cell_type": "code",
   "execution_count": null,
   "id": "628548c3",
   "metadata": {},
   "outputs": [],
   "source": [
    "1j*Z"
   ]
  },
  {
   "cell_type": "code",
   "execution_count": null,
   "id": "59378b3d",
   "metadata": {},
   "outputs": [],
   "source": [
    "Z/1/1"
   ]
  },
  {
   "cell_type": "code",
   "execution_count": null,
   "id": "4e571e77",
   "metadata": {},
   "outputs": [],
   "source": [
    "5<<Z>>5"
   ]
  },
  {
   "cell_type": "code",
   "execution_count": null,
   "id": "a55ddf7b",
   "metadata": {},
   "outputs": [],
   "source": [
    "np.array(0)//np.array(0)\n",
    "\n",
    "np.array(0)//np.array(0.)\n",
    "np.array(0)/np.array(0)\n",
    "np.array(0)/np.array(0.)"
   ]
  },
  {
   "cell_type": "code",
   "execution_count": null,
   "id": "2b9e9101",
   "metadata": {},
   "outputs": [],
   "source": [
    "##How to round away from zero a float array?\n",
    "Z=np.random.uniform(-10,+10,10)\n",
    "print(Z)\n",
    "print(np.trunc(Z))\n",
    "print(np.copysign(0.5,Z))\n",
    "print(np.trunc(Z+np.copysign(0.5,Z)))"
   ]
  },
  {
   "cell_type": "code",
   "execution_count": null,
   "id": "488fbdf2",
   "metadata": {},
   "outputs": [],
   "source": [
    "##extract an integer part of an array using 5 different method\n",
    "Z=np.random.uniform(0,10,10)\n",
    "print(Z)\n",
    "print(Z-Z%1)\n",
    "print(np.floor(Z))\n",
    "print(np.ceil(Z)-1)\n",
    "print(Z.astype(int))\n",
    "print(np.trunc(Z))"
   ]
  },
  {
   "cell_type": "code",
   "execution_count": null,
   "id": "a9d341db",
   "metadata": {},
   "outputs": [],
   "source": [
    "##create a 5X5 matrix with row values ranging from 0 to 4:\n",
    "Z=np.zeros((5,5))\n",
    "Z+=np.arange(5)\n",
    "print(Z)\n"
   ]
  },
  {
   "cell_type": "code",
   "execution_count": null,
   "id": "fc80be58",
   "metadata": {},
   "outputs": [],
   "source": [
    "##Consider a generator function that generates 10 integers and use it to build an array\n",
    "def generator():\n",
    "    for x in xrange(10):\n",
    "        yield x\n",
    "Z=np.linspace(0,1,12,endpoint=True)[1:-1]\n",
    "print(Z)"
   ]
  },
  {
   "cell_type": "code",
   "execution_count": null,
   "id": "5ee3b6a4",
   "metadata": {},
   "outputs": [],
   "source": [
    "##create a vector of size 10 with values ranging from 0 to 1,both excluded\n",
    "M=np.linspace(0,1,12,endpoint=True)[1:-1]\n",
    "print(M)"
   ]
  },
  {
   "cell_type": "code",
   "execution_count": null,
   "id": "b0a1a0aa",
   "metadata": {},
   "outputs": [],
   "source": [
    "##create a random vector of size 10 and sort it\n",
    "Z=np.random.random(10)\n",
    "print(Z)\n",
    "Z.sort()\n",
    "print(Z)\n",
    "\n"
   ]
  },
  {
   "cell_type": "code",
   "execution_count": null,
   "id": "36a52c09",
   "metadata": {},
   "outputs": [],
   "source": [
    "##How to sum a small array faster than np.sum?\n",
    "Z=np.arange(10)\n",
    "print(Z)\n",
    "np.add.reduce(Z)"
   ]
  },
  {
   "cell_type": "code",
   "execution_count": null,
   "id": "7f9410aa",
   "metadata": {},
   "outputs": [],
   "source": [
    "##Consider two random array A and B,Check if they are equal\n",
    "A=np.random.randint(0,2,5)\n",
    "B=np.random.randint(0,2,5)\n",
    "equal=np.allclose(A,B)\n",
    "print(equal)"
   ]
  },
  {
   "cell_type": "code",
   "execution_count": 32,
   "id": "54712c98",
   "metadata": {},
   "outputs": [
    {
     "name": "stdout",
     "output_type": "stream",
     "text": [
      "[0. 0. 0. 0. 0. 0. 0. 0. 0. 0.]\n"
     ]
    }
   ],
   "source": [
    "##make an array immutable(read-only)\n",
    "Z=np.zeros(10)\n",
    "Z.flags.writeable=False\n",
    "print(Z)"
   ]
  },
  {
   "cell_type": "code",
   "execution_count": 33,
   "id": "d4e61cdb",
   "metadata": {},
   "outputs": [
    {
     "name": "stdout",
     "output_type": "stream",
     "text": [
      "[0.22556361 1.20828692 0.48508725 0.90411714 0.18305323 0.76981353\n",
      " 0.33330925 0.1330105  1.02594149 0.70957064]\n",
      "[0.02895794 0.61180762 0.15800563 1.0505968  0.23227287 0.08277558\n",
      " 1.38569291 0.03728282 1.15687634 0.65147413]\n"
     ]
    }
   ],
   "source": [
    "##Create a random 10X2 matrix representing cartesian coordinates, convert them to polar coordinates\n",
    "Z=np.random.random((10,2))\n",
    "X,Y=Z[:,0],Z[:,1]\n",
    "R=np.sqrt(X**2+Y**2)\n",
    "T=np.arctan2(Y,X)\n",
    "print(R)\n",
    "print(T)"
   ]
  },
  {
   "cell_type": "code",
   "execution_count": 34,
   "id": "35094bd0",
   "metadata": {},
   "outputs": [
    {
     "name": "stdout",
     "output_type": "stream",
     "text": [
      "[0.50197188 0.         0.44972706 0.49032782 0.84957349 0.57648548\n",
      " 0.12945476 0.23086906 0.23616936 0.14207161]\n"
     ]
    }
   ],
   "source": [
    "##create random vector of size 10 and replace the maximum value by 0\n",
    "Z=np.random.random(10)\n",
    "Z[Z.argmax()]=0\n",
    "print(Z)"
   ]
  },
  {
   "cell_type": "code",
   "execution_count": 35,
   "id": "4e2b563c",
   "metadata": {},
   "outputs": [
    {
     "name": "stdout",
     "output_type": "stream",
     "text": [
      "[[(0., 0.) (0., 0.) (0., 0.) (0., 0.) (0., 0.) (0., 0.) (0., 0.) (0., 0.)\n",
      "  (0., 0.) (0., 0.)]\n",
      " [(0., 0.) (0., 0.) (0., 0.) (0., 0.) (0., 0.) (0., 0.) (0., 0.) (0., 0.)\n",
      "  (0., 0.) (0., 0.)]\n",
      " [(0., 0.) (0., 0.) (0., 0.) (0., 0.) (0., 0.) (0., 0.) (0., 0.) (0., 0.)\n",
      "  (0., 0.) (0., 0.)]\n",
      " [(0., 0.) (0., 0.) (0., 0.) (0., 0.) (0., 0.) (0., 0.) (0., 0.) (0., 0.)\n",
      "  (0., 0.) (0., 0.)]\n",
      " [(0., 0.) (0., 0.) (0., 0.) (0., 0.) (0., 0.) (0., 0.) (0., 0.) (0., 0.)\n",
      "  (0., 0.) (0., 0.)]\n",
      " [(0., 0.) (0., 0.) (0., 0.) (0., 0.) (0., 0.) (0., 0.) (0., 0.) (0., 0.)\n",
      "  (0., 0.) (0., 0.)]\n",
      " [(0., 0.) (0., 0.) (0., 0.) (0., 0.) (0., 0.) (0., 0.) (0., 0.) (0., 0.)\n",
      "  (0., 0.) (0., 0.)]\n",
      " [(0., 0.) (0., 0.) (0., 0.) (0., 0.) (0., 0.) (0., 0.) (0., 0.) (0., 0.)\n",
      "  (0., 0.) (0., 0.)]\n",
      " [(0., 0.) (0., 0.) (0., 0.) (0., 0.) (0., 0.) (0., 0.) (0., 0.) (0., 0.)\n",
      "  (0., 0.) (0., 0.)]\n",
      " [(0., 0.) (0., 0.) (0., 0.) (0., 0.) (0., 0.) (0., 0.) (0., 0.) (0., 0.)\n",
      "  (0., 0.) (0., 0.)]]\n",
      "[[(0.        , 0.        ) (0.11111111, 0.        )\n",
      "  (0.22222222, 0.        ) (0.33333333, 0.        )\n",
      "  (0.44444444, 0.        ) (0.55555556, 0.        )\n",
      "  (0.66666667, 0.        ) (0.77777778, 0.        )\n",
      "  (0.88888889, 0.        ) (1.        , 0.        )]\n",
      " [(0.        , 0.11111111) (0.11111111, 0.11111111)\n",
      "  (0.22222222, 0.11111111) (0.33333333, 0.11111111)\n",
      "  (0.44444444, 0.11111111) (0.55555556, 0.11111111)\n",
      "  (0.66666667, 0.11111111) (0.77777778, 0.11111111)\n",
      "  (0.88888889, 0.11111111) (1.        , 0.11111111)]\n",
      " [(0.        , 0.22222222) (0.11111111, 0.22222222)\n",
      "  (0.22222222, 0.22222222) (0.33333333, 0.22222222)\n",
      "  (0.44444444, 0.22222222) (0.55555556, 0.22222222)\n",
      "  (0.66666667, 0.22222222) (0.77777778, 0.22222222)\n",
      "  (0.88888889, 0.22222222) (1.        , 0.22222222)]\n",
      " [(0.        , 0.33333333) (0.11111111, 0.33333333)\n",
      "  (0.22222222, 0.33333333) (0.33333333, 0.33333333)\n",
      "  (0.44444444, 0.33333333) (0.55555556, 0.33333333)\n",
      "  (0.66666667, 0.33333333) (0.77777778, 0.33333333)\n",
      "  (0.88888889, 0.33333333) (1.        , 0.33333333)]\n",
      " [(0.        , 0.44444444) (0.11111111, 0.44444444)\n",
      "  (0.22222222, 0.44444444) (0.33333333, 0.44444444)\n",
      "  (0.44444444, 0.44444444) (0.55555556, 0.44444444)\n",
      "  (0.66666667, 0.44444444) (0.77777778, 0.44444444)\n",
      "  (0.88888889, 0.44444444) (1.        , 0.44444444)]\n",
      " [(0.        , 0.55555556) (0.11111111, 0.55555556)\n",
      "  (0.22222222, 0.55555556) (0.33333333, 0.55555556)\n",
      "  (0.44444444, 0.55555556) (0.55555556, 0.55555556)\n",
      "  (0.66666667, 0.55555556) (0.77777778, 0.55555556)\n",
      "  (0.88888889, 0.55555556) (1.        , 0.55555556)]\n",
      " [(0.        , 0.66666667) (0.11111111, 0.66666667)\n",
      "  (0.22222222, 0.66666667) (0.33333333, 0.66666667)\n",
      "  (0.44444444, 0.66666667) (0.55555556, 0.66666667)\n",
      "  (0.66666667, 0.66666667) (0.77777778, 0.66666667)\n",
      "  (0.88888889, 0.66666667) (1.        , 0.66666667)]\n",
      " [(0.        , 0.77777778) (0.11111111, 0.77777778)\n",
      "  (0.22222222, 0.77777778) (0.33333333, 0.77777778)\n",
      "  (0.44444444, 0.77777778) (0.55555556, 0.77777778)\n",
      "  (0.66666667, 0.77777778) (0.77777778, 0.77777778)\n",
      "  (0.88888889, 0.77777778) (1.        , 0.77777778)]\n",
      " [(0.        , 0.88888889) (0.11111111, 0.88888889)\n",
      "  (0.22222222, 0.88888889) (0.33333333, 0.88888889)\n",
      "  (0.44444444, 0.88888889) (0.55555556, 0.88888889)\n",
      "  (0.66666667, 0.88888889) (0.77777778, 0.88888889)\n",
      "  (0.88888889, 0.88888889) (1.        , 0.88888889)]\n",
      " [(0.        , 1.        ) (0.11111111, 1.        )\n",
      "  (0.22222222, 1.        ) (0.33333333, 1.        )\n",
      "  (0.44444444, 1.        ) (0.55555556, 1.        )\n",
      "  (0.66666667, 1.        ) (0.77777778, 1.        )\n",
      "  (0.88888889, 1.        ) (1.        , 1.        )]]\n"
     ]
    }
   ],
   "source": [
    "##create a structured array with x and y coordinate covering the  [0,1]X[0,1] area\n",
    "Z=np.zeros((10,10),[('x',float),('y',float)])\n",
    "print(Z)\n",
    "Z['x'],Z['y']=np.meshgrid(np.linspace(0,1,10),np.linspace(0,1,10))\n",
    "print(Z)"
   ]
  },
  {
   "cell_type": "code",
   "execution_count": 36,
   "id": "b21ae3f5",
   "metadata": {},
   "outputs": [
    {
     "name": "stdout",
     "output_type": "stream",
     "text": [
      "[0 1 2 3 4 5 6 7]\n",
      "[0.5 1.5 2.5 3.5 4.5 5.5 6.5 7.5]\n",
      "[[-2.         -0.66666667 -0.4        -0.28571429 -0.22222222 -0.18181818\n",
      "  -0.15384615 -0.13333333]\n",
      " [ 2.         -2.         -0.66666667 -0.4        -0.28571429 -0.22222222\n",
      "  -0.18181818 -0.15384615]\n",
      " [ 0.66666667  2.         -2.         -0.66666667 -0.4        -0.28571429\n",
      "  -0.22222222 -0.18181818]\n",
      " [ 0.4         0.66666667  2.         -2.         -0.66666667 -0.4\n",
      "  -0.28571429 -0.22222222]\n",
      " [ 0.28571429  0.4         0.66666667  2.         -2.         -0.66666667\n",
      "  -0.4        -0.28571429]\n",
      " [ 0.22222222  0.28571429  0.4         0.66666667  2.         -2.\n",
      "  -0.66666667 -0.4       ]\n",
      " [ 0.18181818  0.22222222  0.28571429  0.4         0.66666667  2.\n",
      "  -2.         -0.66666667]\n",
      " [ 0.15384615  0.18181818  0.22222222  0.28571429  0.4         0.66666667\n",
      "   2.         -2.        ]]\n",
      "3638.1636371179666\n"
     ]
    }
   ],
   "source": [
    "##GIVEN TWO ARRAYS, x AND y Construct the cauchy matrix C(Cij=1/(xi-yj))\n",
    "X=np.arange(8)\n",
    "print(X)\n",
    "Y=X+0.5\n",
    "print(Y)\n",
    "C=1.0/np.subtract.outer(X,Y)\n",
    "print(C)\n",
    "print(np.linalg.det(C))"
   ]
  },
  {
   "cell_type": "code",
   "execution_count": 37,
   "id": "690bfda7",
   "metadata": {},
   "outputs": [
    {
     "name": "stdout",
     "output_type": "stream",
     "text": [
      "-128\n",
      "127\n",
      "-2147483648\n",
      "2147483647\n",
      "-9223372036854775808\n",
      "9223372036854775807\n",
      "-3.4028235e+38\n",
      "3.4028235e+38\n",
      "1.1920929e-07\n",
      "-1.7976931348623157e+308\n",
      "1.7976931348623157e+308\n",
      "2.220446049250313e-16\n"
     ]
    }
   ],
   "source": [
    "##print the minimu and maximum representablr values fo each numpy scalar type\n",
    "for dtype in [np.int8,np.int32,np.int64]:\n",
    "    print(np.iinfo(dtype).min)\n",
    "    print(np.iinfo(dtype).max)\n",
    "for dtype in [np.float32,np.float64]:\n",
    "    print(np.finfo(dtype).min)\n",
    "    print(np.finfo(dtype).max)\n",
    "    print(np.finfo(dtype).eps)"
   ]
  },
  {
   "cell_type": "code",
   "execution_count": 38,
   "id": "d9b14c1a",
   "metadata": {},
   "outputs": [
    {
     "name": "stdout",
     "output_type": "stream",
     "text": [
      "[[0. 0. 0. ... 0. 0. 0.]\n",
      " [0. 0. 0. ... 0. 0. 0.]\n",
      " [0. 0. 0. ... 0. 0. 0.]\n",
      " ...\n",
      " [0. 0. 0. ... 0. 0. 0.]\n",
      " [0. 0. 0. ... 0. 0. 0.]\n",
      " [0. 0. 0. ... 0. 0. 0.]]\n"
     ]
    }
   ],
   "source": [
    "##How to print all the values of an array?\n",
    "np.set_printoptions(threshold=100)\n",
    "Z=np.zeros((25,25))\n",
    "print(Z)"
   ]
  },
  {
   "cell_type": "code",
   "execution_count": 39,
   "id": "0debb16c",
   "metadata": {},
   "outputs": [
    {
     "name": "stdout",
     "output_type": "stream",
     "text": [
      "[ 0  1  2  3  4  5  6  7  8  9 10 11 12 13 14 15 16 17 18 19 20 21 22 23\n",
      " 24 25 26 27 28 29 30 31 32 33 34 35 36 37 38 39 40 41 42 43 44 45 46 47\n",
      " 48 49 50 51 52 53 54 55 56 57 58 59 60 61 62 63 64 65 66 67 68 69 70 71\n",
      " 72 73 74 75 76 77 78 79 80 81 82 83 84 85 86 87 88 89 90 91 92 93 94 95\n",
      " 96 97 98 99]\n",
      "12.468412120392703\n",
      "12\n"
     ]
    }
   ],
   "source": [
    "Z=np.arange(100)\n",
    "print(Z)\n",
    "v=np.random.uniform(0,100)\n",
    "print(v)\n",
    "index=(np.abs(Z-v)).argmin()\n",
    "print(Z[index])"
   ]
  },
  {
   "cell_type": "code",
   "execution_count": 40,
   "id": "3f10ce48",
   "metadata": {},
   "outputs": [
    {
     "name": "stderr",
     "output_type": "stream",
     "text": [
      "C:\\Users\\MOHAMM~1\\AppData\\Local\\Temp/ipykernel_2628/1257644485.py:2: FutureWarning: Passing (type, 1) or '1type' as a synonym of type is deprecated; in a future version of numpy, it will be understood as (type, (1,)) / '(1,)type'.\n",
      "  Z=np.zeros(10,[('x', float, 1),('y',float,1)],('color',[('r',float,1),('g',float,1),('b',float,1)]))\n"
     ]
    },
    {
     "ename": "TypeError",
     "evalue": "order must be str, not tuple",
     "output_type": "error",
     "traceback": [
      "\u001b[1;31m---------------------------------------------------------------------------\u001b[0m",
      "\u001b[1;31mTypeError\u001b[0m                                 Traceback (most recent call last)",
      "\u001b[1;32mC:\\Users\\MOHAMM~1\\AppData\\Local\\Temp/ipykernel_2628/1257644485.py\u001b[0m in \u001b[0;36m<module>\u001b[1;34m\u001b[0m\n\u001b[0;32m      1\u001b[0m \u001b[1;31m##create a structured array representing a position (x,y) and a color (r,g,b)\u001b[0m\u001b[1;33m\u001b[0m\u001b[1;33m\u001b[0m\u001b[0m\n\u001b[1;32m----> 2\u001b[1;33m \u001b[0mZ\u001b[0m\u001b[1;33m=\u001b[0m\u001b[0mnp\u001b[0m\u001b[1;33m.\u001b[0m\u001b[0mzeros\u001b[0m\u001b[1;33m(\u001b[0m\u001b[1;36m10\u001b[0m\u001b[1;33m,\u001b[0m\u001b[1;33m[\u001b[0m\u001b[1;33m(\u001b[0m\u001b[1;34m'x'\u001b[0m\u001b[1;33m,\u001b[0m \u001b[0mfloat\u001b[0m\u001b[1;33m,\u001b[0m \u001b[1;36m1\u001b[0m\u001b[1;33m)\u001b[0m\u001b[1;33m,\u001b[0m\u001b[1;33m(\u001b[0m\u001b[1;34m'y'\u001b[0m\u001b[1;33m,\u001b[0m\u001b[0mfloat\u001b[0m\u001b[1;33m,\u001b[0m\u001b[1;36m1\u001b[0m\u001b[1;33m)\u001b[0m\u001b[1;33m]\u001b[0m\u001b[1;33m,\u001b[0m\u001b[1;33m(\u001b[0m\u001b[1;34m'color'\u001b[0m\u001b[1;33m,\u001b[0m\u001b[1;33m[\u001b[0m\u001b[1;33m(\u001b[0m\u001b[1;34m'r'\u001b[0m\u001b[1;33m,\u001b[0m\u001b[0mfloat\u001b[0m\u001b[1;33m,\u001b[0m\u001b[1;36m1\u001b[0m\u001b[1;33m)\u001b[0m\u001b[1;33m,\u001b[0m\u001b[1;33m(\u001b[0m\u001b[1;34m'g'\u001b[0m\u001b[1;33m,\u001b[0m\u001b[0mfloat\u001b[0m\u001b[1;33m,\u001b[0m\u001b[1;36m1\u001b[0m\u001b[1;33m)\u001b[0m\u001b[1;33m,\u001b[0m\u001b[1;33m(\u001b[0m\u001b[1;34m'b'\u001b[0m\u001b[1;33m,\u001b[0m\u001b[0mfloat\u001b[0m\u001b[1;33m,\u001b[0m\u001b[1;36m1\u001b[0m\u001b[1;33m)\u001b[0m\u001b[1;33m]\u001b[0m\u001b[1;33m)\u001b[0m\u001b[1;33m)\u001b[0m\u001b[1;33m\u001b[0m\u001b[1;33m\u001b[0m\u001b[0m\n\u001b[0m\u001b[0;32m      3\u001b[0m \u001b[0mprint\u001b[0m\u001b[1;33m(\u001b[0m\u001b[0mZ\u001b[0m\u001b[1;33m)\u001b[0m\u001b[1;33m\u001b[0m\u001b[1;33m\u001b[0m\u001b[0m\n",
      "\u001b[1;31mTypeError\u001b[0m: order must be str, not tuple"
     ]
    }
   ],
   "source": [
    "##create a structured array representing a position (x,y) and a color (r,g,b)\n",
    "Z=np.zeros(10,[('x', float, 1),('y',float,1)],('color',[('r',float,1),('g',float,1),('b',float,1)]))\n",
    "print(Z)"
   ]
  },
  {
   "cell_type": "code",
   "execution_count": null,
   "id": "ef62b821",
   "metadata": {},
   "outputs": [],
   "source": [
    "##consider a random vector vector with shape (100,2)representing coordinates, find point by point distances\n",
    "Z=np.random.random((10,2))\n",
    "X,Y=np.atleast_2d(Z[:,0]),np.atleast_2d(Z[:,1])\n",
    "D=np.sqrt((X-X.T)**2+(Y-Y.T)**2)\n",
    "print(D)\n"
   ]
  },
  {
   "cell_type": "code",
   "execution_count": null,
   "id": "fe91bf15",
   "metadata": {},
   "outputs": [],
   "source": [
    "##How to convert a float(32 bits) array into an int(32 bits) in place\n",
    "Z=np.arange(10,dtype=np.int32)\n",
    "Z=Z.astype(np.float32,copy=False)"
   ]
  },
  {
   "cell_type": "code",
   "execution_count": null,
   "id": "bc3fe3f8",
   "metadata": {},
   "outputs": [],
   "source": [
    "##what is the equivalent of enumerate for numpy arrays?\n",
    "Z=np.arange(9).reshape(3,3)\n",
    "for index, value in np.ndenumerate(Z):\n",
    "    print(index,value)\n",
    "for index in np.ndindex(Z.shape):\n",
    "    print(index,Z[index])"
   ]
  },
  {
   "cell_type": "code",
   "execution_count": null,
   "id": "7be253bd",
   "metadata": {},
   "outputs": [],
   "source": [
    "##Generate a generic 2D Gaussian-like array\n",
    "X,Y=np.meshgrid(np.linspace(-1,1,10),np.linspace(-1,1,10))\n",
    "D=np.sqrt(X*X+Y*Y)\n",
    "sigma,mu=1.0,0.0\n",
    "G=np.exp(-((D-mu)**2/(2.0*sigma**2)))\n",
    "print(G)"
   ]
  },
  {
   "cell_type": "code",
   "execution_count": null,
   "id": "1a6fd041",
   "metadata": {},
   "outputs": [],
   "source": [
    "##how to randomly place p elements in a 2D array\n",
    "n=10\n",
    "p=3\n",
    "Z=np.zeros((n,n))\n",
    "np.put(Z,np.random.choice(range(n*n),p,replace=False),1)\n",
    "print(Z)"
   ]
  },
  {
   "cell_type": "code",
   "execution_count": 41,
   "id": "60a195e2",
   "metadata": {},
   "outputs": [
    {
     "name": "stdout",
     "output_type": "stream",
     "text": [
      "[[0.600614   0.35459453 0.64972813 0.78628167 0.71038435 0.14615155\n",
      "  0.91781954 0.3264223  0.73506051 0.01699531]\n",
      " [0.8807575  0.18128158 0.12214092 0.52651163 0.15394139 0.56416709\n",
      "  0.59926737 0.40518133 0.56129278 0.16108172]\n",
      " [0.7033481  0.32075745 0.17988013 0.85563391 0.0257153  0.78109107\n",
      "  0.08233284 0.86260993 0.13341551 0.87742915]\n",
      " [0.36667116 0.25575248 0.44367022 0.24629362 0.55935542 0.5685066\n",
      "  0.05770014 0.29283884 0.82804925 0.74938849]\n",
      " [0.64736173 0.33769442 0.79378408 0.84227514 0.25053406 0.79960735\n",
      "  0.53963976 0.28444893 0.46382725 0.88800492]]\n",
      "[[ 0.07620881 -0.16981066  0.12532294  0.26187648  0.18597916 -0.37825364\n",
      "   0.39341435 -0.19798289  0.21065532 -0.50740988]\n",
      " [ 0.46519517 -0.23428075 -0.29342141  0.1109493  -0.26162094  0.14860476\n",
      "   0.18370504 -0.010381    0.14573045 -0.25448061]\n",
      " [ 0.22112677 -0.16146389 -0.3023412   0.37341258 -0.45650604  0.29886973\n",
      "  -0.3998885   0.38038859 -0.34880583  0.39520781]\n",
      " [-0.07015146 -0.18107014  0.0068476  -0.190529    0.1225328   0.13168398\n",
      "  -0.37912249 -0.14398378  0.39122662  0.31256587]\n",
      " [ 0.06264397 -0.24702334  0.20906632  0.25755738 -0.33418371  0.21488959\n",
      "  -0.045078   -0.30026884 -0.12089052  0.30328715]]\n"
     ]
    }
   ],
   "source": [
    "##subtract the mean of each row of a matrix\n",
    "X=np.random.rand(5,10)\n",
    "Y=X-X.mean(axis=1,keepdims=True)\n",
    "print(X)\n",
    "print(Y)"
   ]
  },
  {
   "cell_type": "code",
   "execution_count": 42,
   "id": "f649a17d",
   "metadata": {},
   "outputs": [
    {
     "name": "stdout",
     "output_type": "stream",
     "text": [
      "[[2 2 0 2 0 1 1 1 2 1]\n",
      " [2 1 0 0 2 2 0 2 1 2]\n",
      " [0 0 0 2 2 0 0 2 1 1]]\n",
      "[[0 0 0 2 2 0 0 2 1 1]\n",
      " [2 1 0 0 2 2 0 2 1 2]\n",
      " [2 2 0 2 0 1 1 1 2 1]]\n"
     ]
    }
   ],
   "source": [
    "##how do i sort an array by an nth column\n",
    "Z=np.random.randint(0,3,(3,10))\n",
    "print(Z)\n",
    "print(Z[Z[:,1].argsort()])"
   ]
  },
  {
   "cell_type": "code",
   "execution_count": 43,
   "id": "cdee6588",
   "metadata": {},
   "outputs": [
    {
     "name": "stdout",
     "output_type": "stream",
     "text": [
      "False\n"
     ]
    }
   ],
   "source": [
    "##how to tell if a given 2D array has null columns?\n",
    "Z=np.random.randint(0,3,(3,10))\n",
    "print((~Z.any(axis=0)).any())"
   ]
  },
  {
   "cell_type": "code",
   "execution_count": 44,
   "id": "ac677c70",
   "metadata": {},
   "outputs": [
    {
     "name": "stdout",
     "output_type": "stream",
     "text": [
      "[0.46845825 0.52099468 0.46250534 0.55407467 0.99599391 0.82372923\n",
      " 0.48182894 0.12575898 0.60657421 0.92723965]\n",
      "0.48182893933142945\n"
     ]
    }
   ],
   "source": [
    "##find the nearest value from a given value in an array\n",
    "Z=np.random.uniform(0,1,10)\n",
    "print(Z)\n",
    "z=0.5\n",
    "m=Z.flat[np.abs(Z-z).argmin()]\n",
    "print(m)"
   ]
  },
  {
   "cell_type": "code",
   "execution_count": 45,
   "id": "1f5a615b",
   "metadata": {},
   "outputs": [
    {
     "name": "stdout",
     "output_type": "stream",
     "text": [
      "range_10\n"
     ]
    }
   ],
   "source": [
    "##create an array class that has a name attribute\n",
    "class NamedArray(np.ndarray):\n",
    "    def __new__(cls,array,name=\"no name\"):\n",
    "        obj=np.asarray(array).view(cls)\n",
    "        obj.name=name\n",
    "        return obj\n",
    "    def __array_finalize__(self,obj):\n",
    "        if obj is None: return\n",
    "        self.info=getattr(obj,'name',\"no name\")\n",
    "Z=NamedArray(np.arange(10),\"range_10\")\n",
    "print(Z.name)"
   ]
  },
  {
   "cell_type": "code",
   "execution_count": 48,
   "id": "a9db161d",
   "metadata": {},
   "outputs": [
    {
     "name": "stdout",
     "output_type": "stream",
     "text": [
      "[1. 1. 1. 1. 1. 1. 1. 1. 1. 1.]\n",
      "[5 3 0 9 5 4 8 2 6 7 0 2 2 6 1 5 3 6 5 0]\n",
      "[4. 2. 4. 3. 2. 5. 4. 2. 2. 2.]\n"
     ]
    }
   ],
   "source": [
    "##Consider a given vector , how to add 1 to each elemet indexed by a second vector(be careful with repeated indices)\n",
    "Z=np.ones(10)\n",
    "print(Z)\n",
    "I=np.random.randint(0,len(Z),20)\n",
    "print(I)\n",
    "Z+=np.bincount(I,minlength=len(Z))\n",
    "print(Z)"
   ]
  },
  {
   "cell_type": "code",
   "execution_count": 47,
   "id": "0708ee85",
   "metadata": {},
   "outputs": [
    {
     "name": "stdout",
     "output_type": "stream",
     "text": [
      "[0. 7. 0. 6. 5. 0. 0. 0. 0. 3.]\n"
     ]
    }
   ],
   "source": [
    "##How to accumulate elements of a vector(X) to an array (F) based on a index list(I)?\n",
    "X=[1,2,3,4,5,6]\n",
    "I=[1,3,9,3,4,1]\n",
    "F=np.bincount(I,X)\n",
    "print(F)"
   ]
  },
  {
   "cell_type": "code",
   "execution_count": 49,
   "id": "f15ecc03",
   "metadata": {},
   "outputs": [
    {
     "name": "stdout",
     "output_type": "stream",
     "text": [
      "[0 1]\n"
     ]
    }
   ],
   "source": [
    "##considering a (w,h,3) image of (dtype=ubyte),compute the numbers of unique colors\n",
    "w,h=16,16\n",
    "I=np.random.randint(0,2,(h,w,3)).astype(np.ubyte)\n",
    "F=I[...,0]*256*256+I[...,1]*256+I[...,2]\n",
    "n=len(np.unique(F))\n",
    "print(np.unique(I))"
   ]
  },
  {
   "cell_type": "code",
   "execution_count": 55,
   "id": "abd102be",
   "metadata": {},
   "outputs": [
    {
     "ename": "SyntaxError",
     "evalue": "invalid syntax (Temp/ipykernel_2628/3281941858.py, line 3)",
     "output_type": "error",
     "traceback": [
      "\u001b[1;36m  File \u001b[1;32m\"C:\\Users\\MOHAMM~1\\AppData\\Local\\Temp/ipykernel_2628/3281941858.py\"\u001b[1;36m, line \u001b[1;32m3\u001b[0m\n\u001b[1;33m    sum=A.reshape(A.shape(,-2)+(-1,)).sum(axis=-1)\u001b[0m\n\u001b[1;37m                          ^\u001b[0m\n\u001b[1;31mSyntaxError\u001b[0m\u001b[1;31m:\u001b[0m invalid syntax\n"
     ]
    }
   ],
   "source": [
    "##considering a four dimension array, how to get over the last two axis at once?\n",
    "A=np.random.randint(0,10,(3,4,3,4))\n",
    "sum=A.reshape(A.shape(:,-2)+(-1,)).sum(axis=-1)\n",
    "print(sum)"
   ]
  },
  {
   "cell_type": "code",
   "execution_count": null,
   "id": "36a8f250",
   "metadata": {},
   "outputs": [],
   "source": [
    "##consider a one dimensional vector D"
   ]
  },
  {
   "cell_type": "code",
   "execution_count": null,
   "id": "c9fdcdaa",
   "metadata": {},
   "outputs": [],
   "source": []
  },
  {
   "cell_type": "code",
   "execution_count": null,
   "id": "d636aa78",
   "metadata": {},
   "outputs": [],
   "source": []
  },
  {
   "cell_type": "code",
   "execution_count": null,
   "id": "dd6cde64",
   "metadata": {},
   "outputs": [],
   "source": []
  },
  {
   "cell_type": "code",
   "execution_count": null,
   "id": "2d98fce0",
   "metadata": {},
   "outputs": [],
   "source": []
  }
 ],
 "metadata": {
  "kernelspec": {
   "display_name": "Python 3 (ipykernel)",
   "language": "python",
   "name": "python3"
  },
  "language_info": {
   "codemirror_mode": {
    "name": "ipython",
    "version": 3
   },
   "file_extension": ".py",
   "mimetype": "text/x-python",
   "name": "python",
   "nbconvert_exporter": "python",
   "pygments_lexer": "ipython3",
   "version": "3.9.7"
  }
 },
 "nbformat": 4,
 "nbformat_minor": 5
}
